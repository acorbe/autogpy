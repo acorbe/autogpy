{
 "cells": [
  {
   "cell_type": "code",
   "execution_count": 1,
   "metadata": {},
   "outputs": [
    {
     "name": "stdout",
     "output_type": "stream",
     "text": [
      "Populating the interactive namespace from numpy and matplotlib\n"
     ]
    }
   ],
   "source": [
    "%pylab inline\n",
    "%load_ext autoreload\n",
    "%autoreload 2\n",
    "\n",
    "import autogpy\n",
    "import numpy as np"
   ]
  },
  {
   "cell_type": "code",
   "execution_count": 7,
   "metadata": {},
   "outputs": [],
   "source": [
    "## some test data\n",
    "\n",
    "xx = np.linspace(0,10,100)\n",
    "yy = 2*xx + np.random.normal(scale=0.2,size=xx.size)"
   ]
  },
  {
   "cell_type": "code",
   "execution_count": 21,
   "metadata": {},
   "outputs": [
    {
     "name": "stdout",
     "output_type": "stream",
     "text": [
      "<class 'pygments.token._TokenType'> 0 Token.Name.Function foo\n",
      "<class 'pygments.token._TokenType'> 3 Token.Text (x)\n",
      "<class 'pygments.token._TokenType'> 6 Token.Operator =\n",
      "matched =\n",
      "<class 'pygments.token._TokenType'> 7 Token.Name a\n",
      "<class 'pygments.token._TokenType'> 8 Token.Operator *\n",
      "<class 'pygments.token._TokenType'> 9 Token.Name x\n",
      "<class 'pygments.token._TokenType'> 10 Token.Operator +\n",
      "<class 'pygments.token._TokenType'> 11 Token.Name b\n",
      "ERROR: an error was intercepted.\n",
      "  stderr and stdout reported below for diagnostics.\n",
      "\n",
      "===== stderr =====\n",
      "\"fig__.core.gnu\" line 7: undefined variable: dsad\n",
      "\n",
      "\n",
      "=== stderr end ===\n",
      "===== stdout =====\n",
      "\n",
      "=== stdout end ===\n"
     ]
    }
   ],
   "source": [
    "with autogpy.Figure('linear-fit-example-output') as f:\n",
    "    f.fit(\"dsa dsad foo(x)=a*x+b\",\"via a,b\",xx,yy)\n",
    "    f.plot(\"foo(x)\")"
   ]
  }
 ],
 "metadata": {
  "kernelspec": {
   "display_name": "Python 3",
   "language": "python",
   "name": "python3"
  },
  "language_info": {
   "codemirror_mode": {
    "name": "ipython",
    "version": 3
   },
   "file_extension": ".py",
   "mimetype": "text/x-python",
   "name": "python",
   "nbconvert_exporter": "python",
   "pygments_lexer": "ipython3",
   "version": "3.8.3"
  }
 },
 "nbformat": 4,
 "nbformat_minor": 4
}
