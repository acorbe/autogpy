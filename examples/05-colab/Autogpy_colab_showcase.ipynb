{
  "nbformat": 4,
  "nbformat_minor": 0,
  "metadata": {
    "colab": {
      "name": "Autogpy-colab-showcase",
      "provenance": [],
      "authorship_tag": "ABX9TyPyNCe3Yjj5HRkvhXnuHGf9",
      "include_colab_link": true
    },
    "kernelspec": {
      "name": "python3",
      "display_name": "Python 3"
    }
  },
  "cells": [
    {
      "cell_type": "markdown",
      "metadata": {
        "id": "view-in-github",
        "colab_type": "text"
      },
      "source": [
        "<a href=\"https://colab.research.google.com/github/acorbe/autogpy/blob/master/examples/05-colab/Autogpy_colab_showcase.ipynb\" target=\"_parent\"><img src=\"https://colab.research.google.com/assets/colab-badge.svg\" alt=\"Open In Colab\"/></a>"
      ]
    },
    {
      "cell_type": "code",
      "metadata": {
        "id": "NMXU8DAcfKJN"
      },
      "source": [
        "!apt install gnuplot texlive poppler-utils ghostscript texlive-latex-extra\n",
        "!pip install autogpy"
      ],
      "execution_count": null,
      "outputs": []
    }
  ]
}